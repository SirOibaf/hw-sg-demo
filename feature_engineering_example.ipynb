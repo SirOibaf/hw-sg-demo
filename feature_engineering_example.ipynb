{
 "cells": [
  {
   "cell_type": "code",
   "execution_count": null,
   "id": "f562bf3e-1c81-4535-9db3-ec65874c4c8e",
   "metadata": {
    "jupyter": {
     "source_hidden": true
    }
   },
   "outputs": [],
   "source": [
    "import os\n",
    "\n",
    "if \"HOPSWORKS_PROJECT_ID\" in os.environ:\n",
    "    os.chdir(f\"{os.environ['HOPSFS_DIR_PATH']}/Jupyter/hw-sg-demo\")"
   ]
  },
  {
   "cell_type": "code",
   "execution_count": 1,
   "id": "d5c821da-87fd-4a37-abd6-31859fa46798",
   "metadata": {},
   "outputs": [],
   "source": [
    "import pandas as pd\n",
    "from cloud_utils import cloud_save_features, cloud_data_source\n",
    "from hopsworks_utils import hopsworks_save_features, hopsworks_data_source"
   ]
  },
  {
   "cell_type": "code",
   "execution_count": 2,
   "id": "91224b30-3f51-42e9-9e6a-536176c43036",
   "metadata": {},
   "outputs": [],
   "source": [
    "def feature_engineering(data):\n",
    "    features = data.groupby(['cc_num', 'category'])['amount'].mean()\n",
    "\n",
    "    features = features.reset_index()\n",
    "    features['event_time'] = pd.Timestamp.now()\n",
    "\n",
    "    return features"
   ]
  },
  {
   "cell_type": "code",
   "execution_count": 3,
   "id": "1587442e-cc0f-488c-ad03-1793fd16f3b1",
   "metadata": {},
   "outputs": [],
   "source": [
    "if \"HOPSWORKS_PROJECT_ID\" in os.environ:\n",
    "    data = hopsworks_data_source()\n",
    "else:\n",
    "    data = cloud_data_source(\"s3://fabio-pnc-demo/transaction_raw/transactions.csv\")"
   ]
  },
  {
   "cell_type": "code",
   "execution_count": 4,
   "id": "f842aecd-a5de-4ac7-9b8d-d974de086b2b",
   "metadata": {},
   "outputs": [],
   "source": [
    "features = feature_engineering(data)"
   ]
  },
  {
   "cell_type": "code",
   "execution_count": 5,
   "id": "2761a812-583e-40a6-9bb8-de3cc20b6e49",
   "metadata": {},
   "outputs": [
    {
     "data": {
      "text/html": [
       "<div>\n",
       "<style scoped>\n",
       "    .dataframe tbody tr th:only-of-type {\n",
       "        vertical-align: middle;\n",
       "    }\n",
       "\n",
       "    .dataframe tbody tr th {\n",
       "        vertical-align: top;\n",
       "    }\n",
       "\n",
       "    .dataframe thead th {\n",
       "        text-align: right;\n",
       "    }\n",
       "</style>\n",
       "<table border=\"1\" class=\"dataframe\">\n",
       "  <thead>\n",
       "    <tr style=\"text-align: right;\">\n",
       "      <th></th>\n",
       "      <th>cc_num</th>\n",
       "      <th>category</th>\n",
       "      <th>amount</th>\n",
       "      <th>event_time</th>\n",
       "    </tr>\n",
       "  </thead>\n",
       "  <tbody>\n",
       "    <tr>\n",
       "      <th>0</th>\n",
       "      <td>4000323325541926</td>\n",
       "      <td>Clothing</td>\n",
       "      <td>49.590000</td>\n",
       "      <td>2025-04-22 14:03:21.421979</td>\n",
       "    </tr>\n",
       "    <tr>\n",
       "      <th>1</th>\n",
       "      <td>4000323325541926</td>\n",
       "      <td>Domestic Transport</td>\n",
       "      <td>58.193333</td>\n",
       "      <td>2025-04-22 14:03:21.421979</td>\n",
       "    </tr>\n",
       "    <tr>\n",
       "      <th>2</th>\n",
       "      <td>4000323325541926</td>\n",
       "      <td>Grocery</td>\n",
       "      <td>50.223571</td>\n",
       "      <td>2025-04-22 14:03:21.421979</td>\n",
       "    </tr>\n",
       "    <tr>\n",
       "      <th>3</th>\n",
       "      <td>4000323325541926</td>\n",
       "      <td>Health/Beauty</td>\n",
       "      <td>73.100000</td>\n",
       "      <td>2025-04-22 14:03:21.421979</td>\n",
       "    </tr>\n",
       "    <tr>\n",
       "      <th>4</th>\n",
       "      <td>4000323325541926</td>\n",
       "      <td>Restaurant/Cafeteria</td>\n",
       "      <td>12.550000</td>\n",
       "      <td>2025-04-22 14:03:21.421979</td>\n",
       "    </tr>\n",
       "    <tr>\n",
       "      <th>...</th>\n",
       "      <td>...</td>\n",
       "      <td>...</td>\n",
       "      <td>...</td>\n",
       "      <td>...</td>\n",
       "    </tr>\n",
       "    <tr>\n",
       "      <th>12358</th>\n",
       "      <td>4999763787658689</td>\n",
       "      <td>Domestic Transport</td>\n",
       "      <td>64.952000</td>\n",
       "      <td>2025-04-22 14:03:21.421979</td>\n",
       "    </tr>\n",
       "    <tr>\n",
       "      <th>12359</th>\n",
       "      <td>4999763787658689</td>\n",
       "      <td>Electronics</td>\n",
       "      <td>539.330000</td>\n",
       "      <td>2025-04-22 14:03:21.421979</td>\n",
       "    </tr>\n",
       "    <tr>\n",
       "      <th>12360</th>\n",
       "      <td>4999763787658689</td>\n",
       "      <td>Grocery</td>\n",
       "      <td>45.785000</td>\n",
       "      <td>2025-04-22 14:03:21.421979</td>\n",
       "    </tr>\n",
       "    <tr>\n",
       "      <th>12361</th>\n",
       "      <td>4999763787658689</td>\n",
       "      <td>Health/Beauty</td>\n",
       "      <td>288.586667</td>\n",
       "      <td>2025-04-22 14:03:21.421979</td>\n",
       "    </tr>\n",
       "    <tr>\n",
       "      <th>12362</th>\n",
       "      <td>4999763787658689</td>\n",
       "      <td>Restaurant/Cafeteria</td>\n",
       "      <td>68.200000</td>\n",
       "      <td>2025-04-22 14:03:21.421979</td>\n",
       "    </tr>\n",
       "  </tbody>\n",
       "</table>\n",
       "<p>12363 rows × 4 columns</p>\n",
       "</div>"
      ],
      "text/plain": [
       "                 cc_num              category      amount  \\\n",
       "0      4000323325541926              Clothing   49.590000   \n",
       "1      4000323325541926    Domestic Transport   58.193333   \n",
       "2      4000323325541926               Grocery   50.223571   \n",
       "3      4000323325541926         Health/Beauty   73.100000   \n",
       "4      4000323325541926  Restaurant/Cafeteria   12.550000   \n",
       "...                 ...                   ...         ...   \n",
       "12358  4999763787658689    Domestic Transport   64.952000   \n",
       "12359  4999763787658689           Electronics  539.330000   \n",
       "12360  4999763787658689               Grocery   45.785000   \n",
       "12361  4999763787658689         Health/Beauty  288.586667   \n",
       "12362  4999763787658689  Restaurant/Cafeteria   68.200000   \n",
       "\n",
       "                      event_time  \n",
       "0     2025-04-22 14:03:21.421979  \n",
       "1     2025-04-22 14:03:21.421979  \n",
       "2     2025-04-22 14:03:21.421979  \n",
       "3     2025-04-22 14:03:21.421979  \n",
       "4     2025-04-22 14:03:21.421979  \n",
       "...                          ...  \n",
       "12358 2025-04-22 14:03:21.421979  \n",
       "12359 2025-04-22 14:03:21.421979  \n",
       "12360 2025-04-22 14:03:21.421979  \n",
       "12361 2025-04-22 14:03:21.421979  \n",
       "12362 2025-04-22 14:03:21.421979  \n",
       "\n",
       "[12363 rows x 4 columns]"
      ]
     },
     "execution_count": 5,
     "metadata": {},
     "output_type": "execute_result"
    }
   ],
   "source": [
    "features"
   ]
  },
  {
   "cell_type": "code",
   "execution_count": 38,
   "id": "42f93a6c-6cd9-4233-9fd6-7b2f12983f11",
   "metadata": {},
   "outputs": [],
   "source": [
    "if \"HOPSWORKS_PROJECT_ID\" in os.environ:\n",
    "    data = hopsworks_save_features(features)\n",
    "else:\n",
    "    cloud_save_features(features, 's3://fabio-pnc-demo/transaction_features/transactions.csv')\n"
   ]
  }
 ],
 "metadata": {
  "kernelspec": {
   "display_name": "Python 3 (ipykernel)",
   "language": "python",
   "name": "python3"
  },
  "language_info": {
   "codemirror_mode": {
    "name": "ipython",
    "version": 3
   },
   "file_extension": ".py",
   "mimetype": "text/x-python",
   "name": "python",
   "nbconvert_exporter": "python",
   "pygments_lexer": "ipython3",
   "version": "3.12.9"
  }
 },
 "nbformat": 4,
 "nbformat_minor": 5
}
